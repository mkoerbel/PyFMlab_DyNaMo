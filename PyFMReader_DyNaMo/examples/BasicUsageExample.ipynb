{
 "cells": [
  {
   "cell_type": "code",
   "execution_count": 1,
   "id": "5b274106-6536-4bf9-84f5-cc3c1bb5f5c3",
   "metadata": {
    "tags": []
   },
   "outputs": [],
   "source": []
  },
  {
   "cell_type": "code",
   "execution_count": 1,
   "id": "62364e0c",
   "metadata": {
    "tags": []
   },
   "outputs": [
    {
     "name": "stdout",
     "output_type": "stream",
     "text": [
      "Help on function loadfile in module pyfmreader.pyfmreader:\n",
      "\n",
      "loadfile(filepath)\n",
      "    Load AFM file. \n",
      "    \n",
      "    Supported formats:\n",
      "        - JPK --> .jpk-force, .jpk-force-map, .jpk-qi-data\n",
      "        - JPK Thermal --> .tnd\n",
      "        - NANOSCOPE --> .spm, .pfc, .00X\n",
      "        - UFF --> .uff\n",
      "        - PS-NEX --> .tdms\n",
      "        - IBW --> .ibw (Asylum files)\n",
      "        - ARDF --> .ARDF (Asylum force maps)\n",
      "    \n",
      "            Parameters:\n",
      "                    filepath (str): Path to the file.\n",
      "            \n",
      "            Returns:\n",
      "                    If JPK, NANOSCOPE OR UFF:\n",
      "                        UFF (uff.UFF): Universal File Format object containing loaded data.\n",
      "                    If JPK Thermal:\n",
      "                        Amplitude (m^2/V) (np.array),\n",
      "                        Frequencies (Hz) (np.array),\n",
      "                        Fit-Data (m^2/V) (np.array),\n",
      "                        Parameters (dict)\n",
      "\n"
     ]
    }
   ],
   "source": [
    "# 1. Import pyafmreader loadfile and matplotlib\n",
    "from pyfmreader import loadfile\n",
    "import matplotlib.pyplot as plt\n",
    "import os\n",
    "\n",
    "# Get documentation about loadfile function\n",
    "help(loadfile)"
   ]
  },
  {
   "cell_type": "code",
   "execution_count": 2,
   "id": "76305922",
   "metadata": {
    "tags": []
   },
   "outputs": [
    {
     "data": {
      "text/plain": [
       "False"
      ]
     },
     "execution_count": 2,
     "metadata": {},
     "output_type": "execute_result"
    }
   ],
   "source": [
    "# 2. Load one of the test files\n",
    "NANOSC_PFC_PATH = '/Users/yogehs/Documents/ATIP_PhD/Devam_larva/test_fc_for_tingfit/qi-data-2025.01.29-17.39.09.524_00037.jpk-qi-series'\n",
    "\n",
    "NANOSC_PFC_FILE = loadfile(NANOSC_PFC_PATH)\n",
    "\n",
    "type(NANOSC_PFC_FILE)\n",
    "NANOSC_PFC_FILE.isFV"
   ]
  },
  {
   "cell_type": "code",
   "execution_count": 3,
   "id": "dcd6a2d2",
   "metadata": {
    "tags": []
   },
   "outputs": [
    {
     "name": "stdout",
     "output_type": "stream",
     "text": [
      "file_path : /Users/yogehs/Documents/ATIP_PhD/Devam_larva/test_fc_for_tingfit/qi-data-2025.01.29-17.39.09.524_00037.jpk-qi-series\n",
      "\n",
      "Entry_filename : qi-data-2025.01.29-17.39.09.524_00037.jpk-qi-series\n",
      "\n",
      "file_size_bytes : 52952\n",
      "\n",
      "file_type : jpk-qi-series\n",
      "\n",
      "UFF_code : _1_2_3_4_5\n",
      "\n",
      "Entry_UFF_version : 0\n",
      "\n",
      "file_id : 17.39.09.524\n",
      "\n",
      "force_volume : 0\n",
      "\n",
      "Experimental_instrument : JPK00498\n",
      "\n",
      "JPK_file_format_version : 2.0\n",
      "\n",
      "JPK_software_version : 6.4.34\n",
      "\n",
      "retracted_delay : 0.0\n",
      "\n",
      "extended_delay : 0.0\n",
      "\n",
      "Entry_date : None\n",
      "\n",
      "scan_angle : 0.0\n",
      "\n",
      "num_x_pixels : 1\n",
      "\n",
      "num_y_pixels : 1\n",
      "\n",
      "scan_size_x : 0.0\n",
      "\n",
      "scan_size_y : 0.0\n",
      "\n",
      "z_closed_loop : false\n",
      "\n",
      "Recording_Z_close_loop_on : Off\n",
      "\n",
      "Entry_tot_nb_curve : 1\n",
      "\n",
      "extend_pause_duration : 0.0\n",
      "\n",
      "force_setpoint : 0.0\n",
      "\n",
      "nbr_channels : 8\n",
      "\n",
      "defl_sens_nmbyV : 7.037199934594127\n",
      "\n",
      "spring_const_Nbym : 0.103\n",
      "\n",
      "channel_properties : {'height': {'channel_id': 0, 'encoder_type': 'signedinteger', 'encoder_offet_key': 57.55886501340634, 'encoder_multiplier_key': 2.6812676812245667e-08, 'base': 'volts', 'base_defined': False, 'absolute_defined': False, 'capSensHeight_abs_offset': 0.0, 'capSensHeight_abs_mult': 1000000000.0, 'nominal_defined': True, 'capSensHeight_nom_offset': 1.4997275085344624e-05, 'capSensHeight_nom_mult': -1.3025404662417549e-07}, 'vDeflection': {'channel_id': 1, 'encoder_type': 'signedinteger', 'encoder_offet_key': -0.00011213691160751082, 'encoder_multiplier_key': 5.580001810227543e-09, 'base': 'volts', 'base_defined': False, 'distance_defined': True, 'deflection_distance_offset': 0.0, 'deflection_distance_multiplier': 7.037199934594127, 'force_defined': True, 'deflection_force_offset': 0.0, 'deflection_force_multiplier': 0.103}, 'error': {'channel_id': 2}, 'measuredHeight': {'channel_id': 3, 'encoder_type': 'signedinteger', 'encoder_offet_key': -1.7989307020351976e-05, 'encoder_multiplier_key': -1.1549487329101563e-14, 'base': 'absolute', 'base_defined': False, 'absolute_defined': False, 'capSensHeight_abs_offset': 0.0, 'capSensHeight_abs_mult': 1000000000.0, 'nominal_defined': True, 'capSensHeight_nom_offset': 1.5e-05, 'capSensHeight_nom_mult': 1.0}, 'time': {'channel_id': 4}, 'smoothedMeasuredHeight': {'channel_id': 5}, 'seriesTime': {'channel_id': 6}, 'verticalTipPosition': {'channel_id': 7}}\n",
      "\n",
      "Recording_number_segment : 2\n",
      "\n",
      "curve_properties : {'0': {'0': {'time_stamp': '2025-01-29 17\\\\:39\\\\:11.083 +0100', 'num_points': 1195, 'duration': 0.01195, 'channels': ['height', 'vDeflection', 'error', 'measuredHeight', 'time', 'smoothedMeasuredHeight', 'seriesTime', 'verticalTipPosition'], 'baseline_measured': False, 'baseline': 0.2600999424246865, 'approach_id': '2025.01.29-14.45.55-00108', 'style': 'extend', 'setpoint': 2.069446218875468, 'z_start': 1500.0, 'z_end': 0.0, 'ramp_size': -1500.0, 'ramp_speed': -125523.01255230125}, '1': {'time_stamp': '2025-01-29 17\\\\:39\\\\:11.098 +0100', 'num_points': 1500, 'duration': 0.015, 'channels': ['height', 'vDeflection', 'error', 'measuredHeight', 'time', 'smoothedMeasuredHeight', 'seriesTime', 'verticalTipPosition'], 'baseline_measured': False, 'baseline': 0.2600999424246865, 'approach_id': '2025.01.29-14.45.55-00108', 'style': 'retract', 'z_start': 1500.0, 'z_end': 0.0, 'ramp_size': -1500.0, 'ramp_speed': -100000.0}}}\n",
      "\n",
      "found_vDeflection : True\n",
      "\n",
      "height_channel_key : measuredHeight\n",
      "\n"
     ]
    }
   ],
   "source": [
    "# 3. Get file metadata\n",
    "metadata = NANOSC_PFC_FILE.filemetadata\n",
    "\n",
    "for key, item in metadata.items():\n",
    "    print(f\"{key} : {item}\\n\") "
   ]
  },
  {
   "cell_type": "code",
   "execution_count": 4,
   "id": "bf2392ad",
   "metadata": {
    "tags": []
   },
   "outputs": [
    {
     "ename": "UnboundLocalError",
     "evalue": "local variable 'piezoimg' referenced before assignment",
     "output_type": "error",
     "traceback": [
      "\u001b[0;31m---------------------------------------------------------------------------\u001b[0m",
      "\u001b[0;31mUnboundLocalError\u001b[0m                         Traceback (most recent call last)",
      "Cell \u001b[0;32mIn[4], line 2\u001b[0m\n\u001b[1;32m      1\u001b[0m \u001b[38;5;66;03m# 4. Get force volume piezo image and plot it\u001b[39;00m\n\u001b[0;32m----> 2\u001b[0m piezoimg \u001b[38;5;241m=\u001b[39m \u001b[43mNANOSC_PFC_FILE\u001b[49m\u001b[38;5;241;43m.\u001b[39;49m\u001b[43mgetpiezoimg\u001b[49m\u001b[43m(\u001b[49m\u001b[43m)\u001b[49m\n\u001b[1;32m      4\u001b[0m plt\u001b[38;5;241m.\u001b[39mfigure(figsize\u001b[38;5;241m=\u001b[39m(\u001b[38;5;241m10\u001b[39m,\u001b[38;5;241m10\u001b[39m))\n\u001b[1;32m      5\u001b[0m plt\u001b[38;5;241m.\u001b[39mimshow(piezoimg[:, :, \u001b[38;5;241m0\u001b[39m], cmap\u001b[38;5;241m=\u001b[39m\u001b[38;5;124m'\u001b[39m\u001b[38;5;124mafmhot\u001b[39m\u001b[38;5;124m'\u001b[39m, origin\u001b[38;5;241m=\u001b[39m\u001b[38;5;124m'\u001b[39m\u001b[38;5;124mlower\u001b[39m\u001b[38;5;124m'\u001b[39m)\n",
      "File \u001b[0;32m~/Documents/ATIP_PhD/PyFMlab_DyNaMo/PyFMReader_DyNaMo/src/pyfmreader/uff.py:137\u001b[0m, in \u001b[0;36mUFF.getpiezoimg\u001b[0;34m(self)\u001b[0m\n\u001b[1;32m    135\u001b[0m file_type \u001b[38;5;241m=\u001b[39m \u001b[38;5;28mself\u001b[39m\u001b[38;5;241m.\u001b[39mfilemetadata[\u001b[38;5;124m'\u001b[39m\u001b[38;5;124mfile_type\u001b[39m\u001b[38;5;124m'\u001b[39m]\n\u001b[1;32m    136\u001b[0m \u001b[38;5;28;01mif\u001b[39;00m file_type \u001b[38;5;129;01min\u001b[39;00m jpkfiles:\n\u001b[0;32m--> 137\u001b[0m     \u001b[38;5;28mself\u001b[39m\u001b[38;5;241m.\u001b[39mpiezoimg \u001b[38;5;241m=\u001b[39m \u001b[43mcomputeJPKPiezoImg\u001b[49m\u001b[43m(\u001b[49m\u001b[38;5;28;43mself\u001b[39;49m\u001b[43m)\u001b[49m\n\u001b[1;32m    138\u001b[0m \u001b[38;5;28;01melif\u001b[39;00m file_type[\u001b[38;5;241m1\u001b[39m:]\u001b[38;5;241m.\u001b[39misdigit() \u001b[38;5;129;01mor\u001b[39;00m file_type \u001b[38;5;129;01min\u001b[39;00m nanoscfiles:\n\u001b[1;32m    139\u001b[0m     \u001b[38;5;28mself\u001b[39m\u001b[38;5;241m.\u001b[39mpiezoimg \u001b[38;5;241m=\u001b[39m loadNANOSCimg(\u001b[38;5;28mself\u001b[39m\u001b[38;5;241m.\u001b[39mfilemetadata)\n",
      "File \u001b[0;32m~/Documents/ATIP_PhD/PyFMlab_DyNaMo/PyFMReader_DyNaMo/src/pyfmreader/jpk/loadjpkimg.py:152\u001b[0m, in \u001b[0;36mcomputeJPKPiezoImg\u001b[0;34m(UFF)\u001b[0m\n\u001b[1;32m    147\u001b[0m     \u001b[38;5;28;01melse\u001b[39;00m:\n\u001b[1;32m    148\u001b[0m         \u001b[38;5;66;03m# In QI files it is not recessary to flip rows\u001b[39;00m\n\u001b[1;32m    149\u001b[0m         \u001b[38;5;66;03m# due to how the acquisition mode works.\u001b[39;00m\n\u001b[1;32m    150\u001b[0m         piezoimg \u001b[38;5;241m=\u001b[39m piezoimg\n\u001b[0;32m--> 152\u001b[0m \u001b[38;5;28;01mreturn\u001b[39;00m \u001b[43mpiezoimg\u001b[49m\n",
      "\u001b[0;31mUnboundLocalError\u001b[0m: local variable 'piezoimg' referenced before assignment"
     ]
    }
   ],
   "source": [
    "# 4. Get force volume piezo image and plot it\n",
    "piezoimg = NANOSC_PFC_FILE.getpiezoimg()\n",
    "\n",
    "plt.figure(figsize=(10,10))\n",
    "plt.imshow(piezoimg[:, :, 0], cmap='afmhot', origin='lower')\n",
    "plt.show()"
   ]
  },
  {
   "cell_type": "code",
   "execution_count": 5,
   "id": "b051e8ce",
   "metadata": {
    "tags": []
   },
   "outputs": [
    {
     "data": {
      "text/plain": [
       "pyfmreader.utils.forcecurve.ForceCurve"
      ]
     },
     "execution_count": 5,
     "metadata": {},
     "output_type": "execute_result"
    }
   ],
   "source": [
    "# 5. Get force curve at index 0\n",
    "FC = NANOSC_PFC_FILE.getcurve(0)\n",
    "\n",
    "type(FC)"
   ]
  },
  {
   "cell_type": "code",
   "execution_count": 6,
   "id": "79b6979c",
   "metadata": {
    "tags": []
   },
   "outputs": [
    {
     "name": "stdout",
     "output_type": "stream",
     "text": [
      "Help on method preprocess_force_curve in module pyfmreader.utils.forcecurve:\n",
      "\n",
      "preprocess_force_curve(deflection_sens, height_channel_key, y0=None) method of pyfmreader.utils.forcecurve.ForceCurve instance\n",
      "    Computes Vertical Deflection in m and populates the vdeflection, zheight \n",
      "    and time properties for each segment in the force curve.\n",
      "    \n",
      "    vDeflection(m) = (vDeflection(V) - baseline(V)) * deflection_sens(m/V)\n",
      "    \n",
      "    if y0 is not None:\n",
      "        vDeflection(m) = (vDeflection(V) - y0(V)) * deflection_sens(m/V)\n",
      "    \n",
      "            Parameters:\n",
      "                    deflection_sens (float): In m/V\n",
      "                    height_channel_key (str): Dictionary key to find height data in self.segment_formated_data.\n",
      "                    y0 (float): Manual offset for the vertical deflection, in Volts.\n",
      "            \n",
      "            Returns: None\n",
      "\n"
     ]
    }
   ],
   "source": [
    "help(FC.preprocess_force_curve)"
   ]
  },
  {
   "cell_type": "code",
   "execution_count": 9,
   "id": "1e96be43",
   "metadata": {
    "tags": []
   },
   "outputs": [
    {
     "data": {
      "image/png": "[encoded data removed]",
      "text/plain": [
       "<Figure size 1000x500 with 1 Axes>"
      ]
     },
     "metadata": {},
     "output_type": "display_data"
    }
   ],
   "source": [
    "# 6. Preprocess curve with the deflection sens in the header\n",
    "defl_sens = metadata['defl_sens_nmbyV'] / 1e09 # nm/V --> m/V\n",
    "FC.preprocess_force_curve(defl_sens, metadata['height_channel_key'])\n",
    "plt.figure(figsize=(10,5))\n",
    "for segid, segment in FC.get_segments():\n",
    "    plt.plot(-1*segment.zheight, segment.vdeflection, label=f'Segment: {segid}')\n",
    "plt.xlabel('zheight [m]')\n",
    "plt.ylabel('vdeflection [m]')\n",
    "plt.legend()\n",
    "plt.show()"
   ]
  },
  {
   "cell_type": "code",
   "execution_count": null,
   "id": "493f377c",
   "metadata": {
    "tags": []
   },
   "outputs": [],
   "source": [
    "# 7. Get Force vs Indentation curve\n",
    "poc = [0.5 * 1e-8, 0.0] # in nm\n",
    "spring_k = metadata['spring_const_Nbym']\n",
    "FC.get_force_vs_indentation(poc, spring_k)\n",
    "plt.figure(figsize=(10,5))\n",
    "for segid, segment in FC.get_segments():\n",
    "    plt.plot(segment.indentation, segment.force, label=f'Segment: {segid}')\n",
    "plt.axhline(y=0, color='k', linestyle='--')\n",
    "plt.axvline(x=0, color='k', linestyle='--')\n",
    "plt.xlabel('Indentation [m]')\n",
    "plt.ylabel('Force [N]')\n",
    "plt.legend()\n",
    "plt.show()"
   ]
  },
  {
   "cell_type": "code",
   "execution_count": null,
   "id": "c43e6c46",
   "metadata": {
    "tags": []
   },
   "outputs": [],
   "source": [
    "# 8. Get segment 0\n",
    "FC_segments = FC.get_segments()\n",
    "_, segment_0 = FC_segments[0]\n",
    "type(segment_0)"
   ]
  },
  {
   "cell_type": "code",
   "execution_count": null,
   "id": "5e278f95",
   "metadata": {
    "tags": []
   },
   "outputs": [],
   "source": [
    "# 9. Plot only segment 0\n",
    "plt.figure(figsize=(10,5))\n",
    "plt.plot(segment_0.zheight, segment_0.vdeflection, label=f'Segment: 0')\n",
    "plt.xlabel('zheight [nm]')\n",
    "plt.ylabel('vdeflection [nm]')\n",
    "plt.legend()\n",
    "plt.show()"
   ]
  },
  {
   "cell_type": "code",
   "execution_count": null,
   "id": "68d88022",
   "metadata": {
    "tags": []
   },
   "outputs": [],
   "source": [
    "# 9. Get force vs indentation for segment 0\n",
    "plt.figure(figsize=(10,5))\n",
    "plt.plot(segment_0.indentation, segment_0.force, label=f'Segment: 0')\n",
    "plt.xlabel('zheight [nm]')\n",
    "plt.ylabel('vdeflection [nm]')\n",
    "plt.legend()\n",
    "plt.show()"
   ]
  }
 ],
 "metadata": {
  "kernelspec": {
   "display_name": "afm_lab",
   "language": "python",
   "name": "python3"
  },
  "language_info": {
   "codemirror_mode": {
    "name": "ipython",
    "version": 3
   },
   "file_extension": ".py",
   "mimetype": "text/x-python",
   "name": "python",
   "nbconvert_exporter": "python",
   "pygments_lexer": "ipython3",
   "version": "3.9.23"
  }
 },
 "nbformat": 4,
 "nbformat_minor": 5
}
